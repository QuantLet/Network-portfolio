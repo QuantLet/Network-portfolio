{
 "cells": [
  {
   "cell_type": "code",
   "execution_count": null,
   "id": "7b2aa9aa",
   "metadata": {},
   "outputs": [],
   "source": [
    "import matplotlib.pyplot as plt\n",
    "import numpy as np\n",
    "import pandas as pd\n",
    "import bar_chart_race as bcr\n"
   ]
  },
  {
   "cell_type": "code",
   "execution_count": null,
   "id": "64b7f7c5",
   "metadata": {},
   "outputs": [],
   "source": [
    "# import data\n",
    "data_file = 'CumuWealth.csv'\n",
    "df = pd.read_csv(data_file)\n",
    "df.head()\n",
    "# data cleaning\n",
    "df.fillna(0, inplace=True)  # fill in empty\n",
    "df.set_index('updateTime', inplace=True)  # set index\n",
    "# Final output\n",
    "fig, ax = plt.subplots(figsize=(10, 6), dpi=120)\n",
    "ax.set_facecolor('none')\n",
    "bcr.bar_chart_race(df=df*100,  # input data\n",
    "                   filename='CumuWealth_race.mp4',  # output filename\n",
    "                   n_bars=10,  # number of bar\n",
    "                   filter_column_colors = 'True', # filter unused columns\n",
    "                   fixed_max=True, # fix max\n",
    "                   steps_per_period=20,\n",
    "                   period_length=200,  # change the speed of movie: for smaller value, movie is shorter; for larger value, movie is longer \n",
    "                   fig=fig,\n",
    "                   title='Cumulative wealth dynamic rank of Top10 strategies'  # title\n",
    "                   )"
   ]
  }
 ],
 "metadata": {
  "kernelspec": {
   "display_name": "Python 3 (ipykernel)",
   "language": "python",
   "name": "python3"
  },
  "language_info": {
   "codemirror_mode": {
    "name": "ipython",
    "version": 3
   },
   "file_extension": ".py",
   "mimetype": "text/x-python",
   "name": "python",
   "nbconvert_exporter": "python",
   "pygments_lexer": "ipython3",
   "version": "3.9.7"
  }
 },
 "nbformat": 4,
 "nbformat_minor": 5
}
